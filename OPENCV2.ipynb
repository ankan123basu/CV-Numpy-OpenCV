{
 "cells": [
  {
   "cell_type": "code",
   "execution_count": null,
   "id": "8be6ea7a",
   "metadata": {},
   "outputs": [],
   "source": [
    "import cv2\n",
    "\n",
    "img = cv2.imread('D:\\ComputerVision\\images\\pexels-photo-1108099.jpeg')\n",
    "\n",
    "cv2"
   ]
  }
 ],
 "metadata": {
  "kernelspec": {
   "display_name": "venv (3.11.4)",
   "language": "python",
   "name": "python3"
  },
  "language_info": {
   "name": "python",
   "version": "3.11.4"
  }
 },
 "nbformat": 4,
 "nbformat_minor": 5
}
